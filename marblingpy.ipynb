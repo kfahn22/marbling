{
  "nbformat": 4,
  "nbformat_minor": 0,
  "metadata": {
    "colab": {
      "provenance": [],
      "authorship_tag": "ABX9TyNFOKq5PU4PH4q7n2/LXUoI",
      "include_colab_link": true
    },
    "kernelspec": {
      "name": "python3",
      "display_name": "Python 3"
    },
    "language_info": {
      "name": "python"
    }
  },
  "cells": [
    {
      "cell_type": "markdown",
      "metadata": {
        "id": "view-in-github",
        "colab_type": "text"
      },
      "source": [
        "<a href=\"https://colab.research.google.com/github/kfahn22/marbling/blob/main/marblingpy.ipynb\" target=\"_parent\"><img src=\"https://colab.research.google.com/assets/colab-badge.svg\" alt=\"Open In Colab\"/></a>"
      ]
    },
    {
      "cell_type": "markdown",
      "source": [
        "## Mathematical Marbling\n",
        "\n",
        "* [marblingpy](https://github.com/taktpixel/marblingpy)\n",
        "\n",
        "* [The Mathematics of Marbling](https://people.csail.mit.edu/jaffer/Marbling/Mathematics)\n",
        "\n",
        "* [Blog - digital marbling](https://blog.amandaghassaei.com/2022/10/25/digital-marbling/)\n",
        "\n",
        "* [Dropping Paint](https://people.csail.mit.edu/jaffer/Marbling/Dropping-Paint)\n",
        "\n"
      ],
      "metadata": {
        "id": "gno8Paz_XgV2"
      }
    },
    {
      "cell_type": "code",
      "execution_count": null,
      "metadata": {
        "colab": {
          "base_uri": "https://localhost:8080/"
        },
        "id": "OSS3Aw3VXfoU",
        "outputId": "a977c569-fd79-4387-d7e5-84ac313b36d5"
      },
      "outputs": [
        {
          "output_type": "stream",
          "name": "stdout",
          "text": [
            "Cloning into 'marblingpy'...\n",
            "remote: Enumerating objects: 142, done.\u001b[K\n",
            "remote: Counting objects: 100% (142/142), done.\u001b[K\n",
            "remote: Compressing objects: 100% (89/89), done.\u001b[K\n",
            "remote: Total 142 (delta 76), reused 107 (delta 48), pack-reused 0\u001b[K\n",
            "Receiving objects: 100% (142/142), 52.65 KiB | 1017.00 KiB/s, done.\n",
            "Resolving deltas: 100% (76/76), done.\n",
            "/content/marblingpy\n"
          ]
        }
      ],
      "source": [
        "!git clone https://github.com/taktpixel/marblingpy.git\n",
        "%cd marblingpy"
      ]
    },
    {
      "cell_type": "code",
      "source": [
        "# marblingpy [-h] [--init INIT] [--save FILE] -m M [-W W] [-H H] [--seed SEED] [--count C]\n",
        "#   -h, --help                     show this help message and exit\n",
        "#   --version                      show program\\'s version number and exit\n",
        "#   --init INIT                    if given, the distortion will start based from the image (png) file\n",
        "#   --save FILE                    write generating image to FILE\n",
        "#   -m M, --method M               the tool function that applies to the image; I=ink-drop, T=tine-line.\n",
        "#   -W W, --width W                the width in integer of generating image file (gif)\n",
        "#   -H H, --height H               the height in integer of generating image file (gif)\n",
        "#   --seed SEED                    input of an unsigned integer 0 or 2^32-1 to the algorithm that generates pseudo-random numbers throughout the program. the same seed produces the same result.\n",
        "#   --interpolation INTERPOLATION  pixel filling interpolation type\n",
        "#   --count C                      the total number of times that tool functions shall be applied to render an image\n",
        "#   -v, --verbose                  show verbose message"
      ],
      "metadata": {
        "id": "GX08-hZMYE_g"
      },
      "execution_count": null,
      "outputs": []
    },
    {
      "cell_type": "markdown",
      "source": [
        "[argparse](https://docs.python.org/3/howto/argparse.html)"
      ],
      "metadata": {
        "id": "ekOch7-Qah42"
      }
    },
    {
      "cell_type": "markdown",
      "source": [
        "Copied gen_marbling b/c there was an error installing dependencies (maybe version issues as numpy and opencv-python are preinstalled in colab??)"
      ],
      "metadata": {
        "id": "UkA16hWbam4u"
      }
    },
    {
      "cell_type": "markdown",
      "source": [
        "Run this cell first!"
      ],
      "metadata": {
        "id": "dvQDk_4wTjiU"
      }
    },
    {
      "cell_type": "code",
      "source": [
        "import numpy as np\n",
        "import cv2\n",
        "import argparse\n",
        "import os\n",
        "import sys\n",
        "import random\n",
        "import datetime\n",
        "import time\n",
        "#from datetime import datetime\n",
        "PACKAGE_NAME = 'marblingpy'\n",
        "ELEMENT_TYPE = np.uint8\n",
        "\n",
        "MIN_THRESHOLD = 1e-8\n",
        "\n",
        "\n",
        "\n",
        "# import matplotlib.pyplot as plt\n",
        "# from PIL import Image\n",
        "#\n",
        "# test functions\n",
        "#\n",
        "def testGetRandomIntDivision(n, div, divList = []):\n",
        "    s = np.random.randint(0, n + 1)\n",
        "    divList.append(s)\n",
        "\n",
        "    if div - 2 <= 0:\n",
        "        divList.append(n - s)\n",
        "        return divList\n",
        "\n",
        "    return testGetRandomIntDivision(n - s, div - 1, divList)\n",
        "\n",
        "def testDropCircle(img, height, width, count = 10, interpolation = 'nearest', verbose = False):\n",
        "    for i in range(count):\n",
        "        color = np.random.randint(0, 256, 3)\n",
        "        x = np.random.randint(0, width)\n",
        "        y = np.random.randint(0, height)\n",
        "        r = np.random.randint(10, np.min((100, np.max((10, int(np.min((width, height))/2))))))\n",
        "\n",
        "        if (verbose):\n",
        "            print('drop circle ({}/{}) : (x, y, r) = ({}, {}, {})'.format(i, count, x, y, r))\n",
        "\n",
        "        dropCircle(img, color, (y, x), r, interpolation)\n",
        "\n",
        "def testDrawTineLine(img, height, width, count = 2, interpolation = 'nearest', verbose = False):\n",
        "    for i in range(count):\n",
        "        dir1 = np.random.randint(1, height)\n",
        "        dir2 = np.random.randint(1, width)\n",
        "        init1 = np.random.randint(0, height)\n",
        "        init2 = np.random.randint(0, width)\n",
        "        shift = np.random.randint(0, np.min((width, height)) * 2)\n",
        "        sharpness = np.random.randint(0, 32)\n",
        "\n",
        "        if (verbose):\n",
        "            print('tine line ({}/{}) : (x1, y1), (x2, y2), shift, sharpness = ({}, {}), ({}, {}), {}, {}' \\\n",
        "                    .format(i, count, dir1, dir2, init1, init2, shift, sharpness))\n",
        "\n",
        "        drawTineLine(img, height, width, (dir1, dir2), (init1, init2), shift, sharpness, interpolation)\n",
        "\n",
        "#\n",
        "# utilities\n",
        "#\n",
        "def range2dCoord(width, height):\n",
        "    \"\"\"get range for 2D iteration\n",
        "\n",
        "    Args:\n",
        "        width (int): image width\n",
        "        height (int): image height\n",
        "\n",
        "    Returns:\n",
        "        2D array: shape is (width * height, 2)\n",
        "    \"\"\"\n",
        "    baseArr = [[x for x in range(width)]] * height\n",
        "    xArr = np.stack(baseArr, axis=0).reshape((height * width,))\n",
        "    yArr = np.stack(baseArr, axis=1).reshape((height * width,))\n",
        "    sourceCoord = np.column_stack((xArr, yArr))\n",
        "    return sourceCoord\n",
        "\n",
        "def bilinearInterpolation(img, x, y):\n",
        "    \"\"\"pickup bilinear interpolated color\n",
        "\n",
        "    Args:\n",
        "        img (Mat): 3D, 3-channel color image\n",
        "        x (float): floating position coordinate\n",
        "        y (float): floating position coordinate\n",
        "\n",
        "    Returns:\n",
        "        value: color value\n",
        "    \"\"\"\n",
        "    x1 = np.floor(x).astype(ELEMENT_TYPE)\n",
        "    x2 = x1 + 1\n",
        "    xr = x - x1\n",
        "    y1 = np.floor(y).astype(ELEMENT_TYPE)\n",
        "    y2 = y1 + 1\n",
        "    yr = y - y1\n",
        "\n",
        "    channel = img.shape[2]\n",
        "    val = np.zeros((channel))\n",
        "\n",
        "    xx = np.array([[1 - xr], [xr]], dtype='float32')\n",
        "    yy = np.array([[1 - yr], [yr]], dtype='float32')\n",
        "    f = np.array([[img[int(x1), int(y1), :], img[int(x1), int(y2), :]], [img[int(x2), int(y1), :], img[int(x2), int(y2), :]]])\n",
        "\n",
        "    for i in range(channel):\n",
        "        b = np.matmul(f[:, :, i], yy)\n",
        "        v = np.matmul(xx.T, b)\n",
        "        val[i] = v\n",
        "\n",
        "    return np.around(np.array(val)).astype(ELEMENT_TYPE).reshape(channel)\n",
        "\n",
        "\n",
        "#\n",
        "# tool functions\n",
        "#\n",
        "def dropCircle(img, color, dpCoord, r, interpolation = 'nearest'):\n",
        "    dpCoord = np.array(dpCoord)\n",
        "\n",
        "    # prepare source coordinate\n",
        "    h, w, _ = img.shape\n",
        "    sourceCoord = range2dCoord(w, h)\n",
        "\n",
        "    # generate pickup coordinate\n",
        "    derivCoordArray = sourceCoord - dpCoord\n",
        "    r_2 = r**2\n",
        "    dArray_2 = np.maximum(np.power(np.linalg.norm(derivCoordArray, axis=1), 2), MIN_THRESHOLD)\n",
        "    factorArray = np.sqrt(np.maximum((dArray_2 - r_2) / dArray_2, MIN_THRESHOLD))\n",
        "    pickupCoord = dpCoord + np.multiply(derivCoordArray, factorArray.reshape((1, -1)).T)\n",
        "\n",
        "    # extract\n",
        "    outerIndex = np.where(dArray_2 > r_2)\n",
        "    sourceCoord = sourceCoord[outerIndex]\n",
        "    pickupCoord = pickupCoord[outerIndex]\n",
        "\n",
        "    if interpolation == 'nearest':\n",
        "        # for nearest neighbor\n",
        "        pickupCoord = np.round(pickupCoord).astype(ELEMENT_TYPE)\n",
        "\n",
        "        # copy spreading pixel by nearest neighbor\n",
        "        img[sourceCoord[:, 0], sourceCoord[:, 1], :] = img[pickupCoord[:, 0], pickupCoord[:, 1], :]\n",
        "    elif interpolation == 'bilinear':\n",
        "        buf = img.copy()\n",
        "        for idx in range(len(sourceCoord)):\n",
        "            p = sourceCoord[idx]\n",
        "            q = pickupCoord[idx]\n",
        "            img[p[0], p[1], :] = bilinearInterpolation(buf, q[0], q[1])\n",
        "\n",
        "    # cv2.circle method specifies the dropping point reverse the order (y, x)\n",
        "    # instead of (x, y)\n",
        "    if isinstance(color, np.ndarray):\n",
        "        _color = color.tolist()\n",
        "    else:\n",
        "        _color = color\n",
        "    # LINE_8\n",
        "    #cv2.circle(img, (dpCoord[1], dpCoord[0]), r, _color, -1, lineType=cv2.LINE_AA)\n",
        "    cv2.circle(img, (dpCoord[1], dpCoord[0]), r, _color, -1, lineType=cv2.LINE_8)\n",
        "\n",
        "\n",
        "\n",
        "def drawTineLine(img, height, width, dirVector, initCoord = (0, 0), shift = 10, sharpness = 2, interpolation = 'nearest'):\n",
        "    # setup variables\n",
        "    initCoordArray = np.array(initCoord)\n",
        "\n",
        "    ## dirVector must not be zero vector (i.e. !=(0,0) )\n",
        "    ## because the y-axis is inverted within the pixel coordinate, y-coordinate must be multiplied by -1.\n",
        "    dirVectorArray = np.array((dirVector[0], -dirVector[1]))\n",
        "    normOfDirVector = np.linalg.norm(dirVectorArray)\n",
        "\n",
        "    if normOfDirVector == 0:\n",
        "        raise RuntimeError('\"dirVector\" must not be zero vector.')\n",
        "\n",
        "    dirVectorUnitArray = dirVectorArray / normOfDirVector\n",
        "\n",
        "    ## the y-axis inversion makes the normal vector be equivalent of directional vector of the tine line,\n",
        "    ## if the orientation is compatible with given arguments, which suffices in this case.\n",
        "    nCoordArray = np.array(dirVector)\n",
        "    nCoordUnitArray = nCoordArray / np.linalg.norm(nCoordArray)\n",
        "\n",
        "    # prepare source coordinate\n",
        "    h, w, _ = img.shape\n",
        "    sourceCoord = range2dCoord(w, h)\n",
        "\n",
        "    # calculate the distance between a point and the tine line\n",
        "    # note how we calculate the norm of inner product\n",
        "    sourceCoordSub = np.subtract(sourceCoord, initCoordArray.reshape(-1, 1).T)\n",
        "    nCoordUnitArrayMul = np.multiply(sourceCoordSub, nCoordUnitArray.reshape(-1, 1).T)\n",
        "    dArray = np.abs(nCoordUnitArrayMul.sum(axis=1))\n",
        "    dArray = np.maximum(dArray, MIN_THRESHOLD)\n",
        "\n",
        "    # calculate the reverse function in order to obtain the originated point to be applied the tool function.\n",
        "    reverseFactor = shift * sharpness / (dArray + sharpness)\n",
        "    pickupCoord = sourceCoord - np.multiply(reverseFactor.reshape(-1, 1), dirVectorUnitArray.reshape(-1 , 1).T)\n",
        "    pickupCoord = np.clip(pickupCoord, (0, 0), (width -1, height - 1))\n",
        "\n",
        "    if interpolation == 'nearest':\n",
        "        # for nearest neighbor\n",
        "        pickupCoord = np.round(pickupCoord).astype(ELEMENT_TYPE)\n",
        "\n",
        "        # copy spreading pixel by nearest neighbor\n",
        "        img[sourceCoord[:, 0], sourceCoord[:, 1], :] = img[pickupCoord[:, 0], pickupCoord[:, 1], :]\n",
        "    elif interpolation == 'bilinear':\n",
        "        buf = img.copy()\n",
        "        for idx in range(len(sourceCoord)):\n",
        "            p = sourceCoord[idx]\n",
        "            q = pickupCoord[idx]\n",
        "            img[p[0], p[1], :] = bilinearInterpolation(buf, q[0], q[1])\n",
        "\n",
        "def main():\n",
        "    NOW = datetime.datetime.utcnow()\n",
        "    parser = argparse.ArgumentParser(prog=PACKAGE_NAME.replace('_', '-'), description='generate a randomized mathematical marbling image.')\n",
        "    #parser.add_argument('--version', action='version', version='%(prog)s ' + __version__)\n",
        "    parser.add_argument('--init', dest='INIT', type=str, help='if given, the distortion will start based from the image (png) file', metavar='INIT')\n",
        "    parser.add_argument('--save', dest='FILE', type=str, help='write generating image to FILE', metavar='FILE', default=NOW.strftime('%y%m%d%H%M%S.%f')[:-3] + '.png')\n",
        "    parser.add_argument('-m', '--method', dest='METHOD', type=str, help='the tool function that applies to the image; I=ink-drop, T=tine-line.', metavar='M', choices=['I', 'T'], required=True)\n",
        "    parser.add_argument('-W', '--width', dest='WIDTH', type=int, help='the width in integer of generating image file (gif)', metavar='W', default=112)\n",
        "    parser.add_argument('-H', '--height', dest='HEIGHT', type=int, help='the height in integer of generating image file (gif)', metavar='H', default=112)\n",
        "    parser.add_argument('--seed', dest='SEED', type=np.uint32, help='input of an unsigned integer 0 or 2^32-1 to the algorithm that generates pseudo-random numbers throughout the program. the same seed produces the same result.', metavar='SEED', default=int(datetime.datetime.timestamp(NOW)))\n",
        "    parser.add_argument('--interpolation', dest='INTERPOLATION', type=str, help='pixel filling interpolation type', metavar='INTERPOLATION', default='nearest', choices=['nearest', 'bilinear'])\n",
        "    parser.add_argument('--count', dest='COUNT', type=int, help='the total number of times that tool functions shall be applied to render an image', metavar='C', default=1)\n",
        "    parser.add_argument('-v', '--verbose', dest='VERBOSE', action='store_true', help='show verbose message')\n",
        "\n",
        "    args = parser.parse_args()\n",
        "    width = args.WIDTH\n",
        "    height = args.HEIGHT\n",
        "\n",
        "    # set seed\n",
        "    np.random.seed(args.SEED)\n",
        "\n",
        "    # show seed if verbose option is true\n",
        "    if args.VERBOSE:\n",
        "        print ('Current seed: %d' % args.SEED)\n",
        "\n",
        "    # processing\n",
        "    if args.INIT != None:\n",
        "        imgLoaded = cv2.imread(args.INIT, cv2.IMREAD_UNCHANGED)\n",
        "        orig2DShape = imgLoaded.shape[0:2]\n",
        "        width = orig2DShape[1]\n",
        "        height = orig2DShape[0]\n",
        "\n",
        "        # linearly shrink/stretches the image range for uint16 data pallet\n",
        "        img = cv2.normalize(imgLoaded, dst=None, alpha=0, beta=np.max(orig2DShape) - 1, norm_type=cv2.NORM_MINMAX)\n",
        "    else:\n",
        "        img = np.full((height, width, 3), 255, dtype=ELEMENT_TYPE)\n",
        "\n",
        "    if args.METHOD == 'I':\n",
        "        testDropCircle(img, height, width, args.COUNT, interpolation=args.INTERPOLATION, verbose=args.VERBOSE)\n",
        "    elif args.METHOD == 'T':\n",
        "        testDrawTineLine(img, height, width, args.COUNT, interpolation=args.INTERPOLATION, verbose=args.VERBOSE)\n",
        "\n",
        "    # linearly stretches the image range for uint16 display pallet\n",
        "    img_scaled = cv2.normalize(img, dst=None, alpha=0, beta=2**16 - 1, norm_type=cv2.NORM_MINMAX)\n",
        "    cv2.imwrite(args.FILE, img_scaled)\n",
        "\n",
        "# if __name__=='__main__':\n",
        "#     main()\n"
      ],
      "metadata": {
        "id": "H2ig3jrlZ0dS"
      },
      "execution_count": null,
      "outputs": []
    },
    {
      "cell_type": "code",
      "source": [
        "width = 256\n",
        "height = 256\n",
        "color = np.random.randint(0, 256, 3)\n",
        "x = np.random.randint(0, width)\n",
        "y = np.random.randint(0, height)\n",
        "r = np.random.randint(10, np.min((100, np.max((10, int(np.min((width, height))/2))))))"
      ],
      "metadata": {
        "id": "ehL_adeheQ2x"
      },
      "execution_count": null,
      "outputs": []
    },
    {
      "cell_type": "markdown",
      "source": [
        "The error occurs because the img argument is a string representing the image path instead of the actual image data. To fix this, you need to load the image using cv2.imread before calling the testDropCircle function."
      ],
      "metadata": {
        "id": "FDMZDT-6jHjU"
      }
    },
    {
      "cell_type": "markdown",
      "source": [
        "Test the function"
      ],
      "metadata": {
        "id": "BS__d3cPfIfZ"
      }
    },
    {
      "cell_type": "code",
      "source": [
        "# import numpy as np\n",
        "\n",
        "# img = np.zeros((height, width, 3), dtype=np.uint8)"
      ],
      "metadata": {
        "id": "YQy5KxbGt8Re"
      },
      "execution_count": null,
      "outputs": []
    },
    {
      "cell_type": "code",
      "source": [
        "#testDropCircle(img, height, width, r)"
      ],
      "metadata": {
        "id": "lE0ClYCTea4a"
      },
      "execution_count": null,
      "outputs": []
    },
    {
      "cell_type": "code",
      "source": [
        "#testDrawTineLine(img, height, width, 2)"
      ],
      "metadata": {
        "id": "vNWXM_4y2gdy"
      },
      "execution_count": null,
      "outputs": []
    },
    {
      "cell_type": "code",
      "source": [
        "# from google.colab.patches import cv2_imshow\n",
        "# import cv2\n",
        "# # Display the image\n",
        "# cv2_imshow(img)\n",
        "# cv2.waitKey(0)\n",
        "# cv2.destroyAllWindows()\n"
      ],
      "metadata": {
        "colab": {
          "base_uri": "https://localhost:8080/",
          "height": 293
        },
        "id": "9SbKEDSg11m0",
        "outputId": "323c9e45-1fd4-46c0-b7be-33f96912e24b"
      },
      "execution_count": null,
      "outputs": [
        {
          "output_type": "display_data",
          "data": {
            "text/plain": [
              "<PIL.Image.Image image mode=RGB size=256x256>"
            ],
            "image/png": "[encoded data removed]"
          },
          "metadata": {}
        }
      ]
    },
    {
      "cell_type": "code",
      "source": [
        "import numpy as np\n",
        "width = 256\n",
        "height = 256\n",
        "color = np.random.randint(0, 256, 3)\n",
        "x = np.random.randint(0, width)\n",
        "y = np.random.randint(0, height)\n",
        "img = np.zeros((height, width, 3), dtype=np.uint8)\n",
        "r = np.random.randint(10, np.min((100, np.max((10, int(np.min((width, height))/2))))))"
      ],
      "metadata": {
        "id": "sixYMU0n3uUZ"
      },
      "execution_count": null,
      "outputs": []
    },
    {
      "cell_type": "code",
      "source": [
        "dropCircle(img, color, (x,y), r)\n",
        "dropCircle(img, np.random.randint(0, 256, 3), (np.random.randint(0, width), np.random.randint(0, height)), r)\n",
        "dropCircle(img, np.random.randint(0, 256, 3), (np.random.randint(0, width), np.random.randint(0, height)), r)\n",
        "dropCircle(img, np.random.randint(0, 256, 3), (np.random.randint(0, width), np.random.randint(0, height)), r)"
      ],
      "metadata": {
        "id": "KaQ61qDz3WyX"
      },
      "execution_count": null,
      "outputs": []
    },
    {
      "cell_type": "code",
      "source": [
        "def marble(img, count):\n",
        "  for i in range(count):\n",
        "     dropCircle(img, np.random.randint(0, 256, 3), (np.random.randint(0, width), np.random.randint(0, height)), np.random.randint(10, np.min((100, np.max((10, int(np.min((width, height))/2)))))))"
      ],
      "metadata": {
        "id": "mdA6SUqqf4GV"
      },
      "execution_count": null,
      "outputs": []
    },
    {
      "cell_type": "code",
      "source": [
        "marble(img, 100)"
      ],
      "metadata": {
        "id": "8EH7jY-JgPKH"
      },
      "execution_count": null,
      "outputs": []
    },
    {
      "cell_type": "code",
      "source": [
        "dirVector = np.array([-1, 1])"
      ],
      "metadata": {
        "id": "ZzD90RYc4RpC"
      },
      "execution_count": null,
      "outputs": []
    },
    {
      "cell_type": "code",
      "source": [
        "drawTineLine(img, height, width, dirVector, initCoord = (202, 44), shift = 54, sharpness=27, interpolation = 'nearest')\n",
        "drawTineLine(img, height, width, dirVector, initCoord = (23, 245), shift = 146, sharpness=28, interpolation = 'nearest')\n",
        "drawTineLine(img, height, width, dirVector, initCoord = (25,23), shift = 66, sharpness=7, interpolation = 'nearest')"
      ],
      "metadata": {
        "id": "eCqtKUT44NEm"
      },
      "execution_count": null,
      "outputs": []
    },
    {
      "cell_type": "code",
      "source": [
        "# tine line (0/3) : (x1, y1), (x2, y2), shift, sharpness = (202, 44), (62, 177), 54, 27\n",
        "# tine line (1/3) : (x1, y1), (x2, y2), shift, sharpness = (23, 245), (76, 234), 146, 28\n",
        "# tine line (2/3) : (x1, y1), (x2, y2), shift, sharpness = (25, 23), (12, 127), 66, 7"
      ],
      "metadata": {
        "id": "VDLEsBfyhEwV"
      },
      "execution_count": null,
      "outputs": []
    },
    {
      "cell_type": "code",
      "source": [
        "\n",
        "import cv2\n",
        "from google.colab.patches import cv2_imshow\n",
        "cv2_imshow(img)\n",
        "cv2.waitKey(0)\n",
        "cv2.destroyAllWindows()"
      ],
      "metadata": {
        "colab": {
          "base_uri": "https://localhost:8080/",
          "height": 273
        },
        "id": "MJZvMFJe4Upd",
        "outputId": "3fea722d-66cf-48a4-8d5e-ab5f3d56fd51"
      },
      "execution_count": null,
      "outputs": [
        {
          "output_type": "display_data",
          "data": {
            "text/plain": [
              "<PIL.Image.Image image mode=RGB size=256x256>"
            ],
            "image/png": "[encoded data removed]"
          },
          "metadata": {}
        }
      ]
    },
    {
      "cell_type": "code",
      "source": [
        "# !marblingpy --save output.png --method I --width 256 --height 256 --count 10 --verbose\n",
        "# #Current seed: 1602334135\n",
        "# drop circle (0/10) : (x, y, r) = (194, 224, 52)\n",
        "# drop circle (1/10) : (x, y, r) = (147, 165, 86)\n",
        "# drop circle (2/10) : (x, y, r) = (184, 9, 42)\n",
        "# drop circle (3/10) : (x, y, r) = (98, 245, 58)\n",
        "# drop circle (4/10) : (x, y, r) = (155, 26, 30)\n",
        "# drop circle (5/10) : (x, y, r) = (195, 95, 10)\n",
        "# drop circle (6/10) : (x, y, r) = (185, 37, 87)\n",
        "# drop circle (7/10) : (x, y, r) = (82, 215, 70)\n",
        "# drop circle (8/10) : (x, y, r) = (233, 123, 29)\n",
        "# drop circle (9/10) : (x, y, r) = (51, 186, 41)"
      ],
      "metadata": {
        "id": "ypWPC7_QYWnd"
      },
      "execution_count": null,
      "outputs": []
    },
    {
      "cell_type": "code",
      "source": [
        "# import numpy as np\n",
        "# import cv2\n",
        "# from google.colab.patches import cv2_imshow\n",
        "\n",
        "# def testDropCircle(img, count=10, interpolation='nearest', verbose=False):\n",
        "#     height, width, _ = img.shape\n",
        "#     for i in range(count):\n",
        "#         color = np.random.randint(0, 256, 3)\n",
        "#         x = np.random.randint(0, width)\n",
        "#         y = np.random.randint(0, height)\n",
        "#         r = np.random.randint(10, min(100, max(10, int(min(width, height) / 2))))\n",
        "\n",
        "#         if (verbose):\n",
        "#             print('drop circle ({}/{}) : (x, y, r) = ({}, {}, {})'.format(i, count, x, y, r))\n",
        "\n",
        "#         dropCircle(img, color, (x, y), r, interpolation)\n",
        "\n",
        "# def dropCircle(img, color, dpCoord, r, interpolation = 'nearest'):\n",
        "#     dpCoord = np.array(dpCoord)\n",
        "\n",
        "#     # prepare source coordinate\n",
        "#     h, w, _ = img.shape\n",
        "#     sourceCoord = range2dCoord(w, h)\n",
        "\n",
        "#     # generate pickup coordinate\n",
        "#     derivCoordArray = sourceCoord - dpCoord\n",
        "#     r_2 = r**2\n",
        "#     dArray_2 = np.maximum(np.power(np.linalg.norm(derivCoordArray, axis=1), 2), MIN_THRESHOLD)\n",
        "#     factorArray = np.sqrt(np.maximum((dArray_2 - r_2) / dArray_2, MIN_THRESHOLD))\n",
        "#     pickupCoord = dpCoord + np.multiply(derivCoordArray, factorArray.reshape((1, -1)).T)\n",
        "\n",
        "#     # extract\n",
        "#     outerIndex = np.where(dArray_2 > r_2)\n",
        "#     sourceCoord = sourceCoord[outerIndex]\n",
        "#     pickupCoord = pickupCoord[outerIndex]\n",
        "\n",
        "#     if interpolation == 'nearest':\n",
        "#         # for nearest neighbor\n",
        "#         pickupCoord = np.round(pickupCoord).astype(ELEMENT_TYPE)\n",
        "\n",
        "#         # copy spreading pixel by nearest neighbor\n",
        "#         img[sourceCoord[:, 0], sourceCoord[:, 1], :] = img[pickupCoord[:, 0], pickupCoord[:, 1], :]\n",
        "#     elif interpolation == 'bilinear':\n",
        "#         buf = img.copy()\n",
        "#         for idx in range(len(sourceCoord)):\n",
        "#             p = sourceCoord[idx]\n",
        "#             q = pickupCoord[idx]\n",
        "#             img[p[0], p[1], :] = bilinearInterpolation(buf, q[0], q[1])\n",
        "\n",
        "#     # cv2.circle method specifies the dropping point reverse the order (y, x)\n",
        "#     # instead of (x, y)\n",
        "#     if isinstance(color, np.ndarray):\n",
        "#         _color = color.tolist()\n",
        "#     else:\n",
        "#         _color = color\n",
        "\n",
        "#     cv2.circle(img, (dpCoord[1], dpCoord[0]), r, _color, -1, lineType=cv2.LINE_AA)\n",
        "\n",
        "# # Create a blank image\n",
        "# height = 400\n",
        "# width = 400\n",
        "# img = np.zeros((height, width, 3), dtype=np.uint8)\n",
        "\n",
        "# # Add circles to the image\n",
        "# testDropCircle(img)\n",
        "\n",
        "# # Display the image\n",
        "# cv2_imshow(img)\n",
        "# cv2.waitKey(0)\n",
        "# cv2.destroyAllWindows()\n"
      ],
      "metadata": {
        "colab": {
          "base_uri": "https://localhost:8080/",
          "height": 437
        },
        "id": "qAP7grPRtMes",
        "outputId": "e67c00a3-7a21-4b86-c6db-217161b1f025"
      },
      "execution_count": null,
      "outputs": [
        {
          "output_type": "display_data",
          "data": {
            "text/plain": [
              "<PIL.Image.Image image mode=RGB size=400x400>"
            ],
            "image/png": "[encoded data removed]"
          },
          "metadata": {}
        }
      ]
    }
  ]
}